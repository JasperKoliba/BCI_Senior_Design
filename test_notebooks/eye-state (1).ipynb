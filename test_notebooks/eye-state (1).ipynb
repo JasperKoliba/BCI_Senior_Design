{
 "cells": [
  {
   "cell_type": "code",
   "execution_count": 5,
   "metadata": {
    "_cell_guid": "b1076dfc-b9ad-4769-8c92-a6c4dae69d19",
    "_uuid": "8f2839f25d086af736a60e9eeb907d3b93b6e0e5",
    "execution": {
     "iopub.execute_input": "2025-02-03T17:46:50.045022Z",
     "iopub.status.busy": "2025-02-03T17:46:50.044613Z",
     "iopub.status.idle": "2025-02-03T17:46:50.530094Z",
     "shell.execute_reply": "2025-02-03T17:46:50.528896Z",
     "shell.execute_reply.started": "2025-02-03T17:46:50.044983Z"
    },
    "jupyter": {
     "source_hidden": true
    },
    "trusted": true
   },
   "outputs": [],
   "source": [
    "# This Python 3 environment comes with many helpful analytics libraries installed\n",
    "# It is defined by the kaggle/python Docker image: https://github.com/kaggle/docker-python\n",
    "# For example, here's several helpful packages to load\n",
    "\n",
    "import numpy as np # linear algebra\n",
    "import pandas as pd # data processing, CSV file I/O (e.g. pd.read_csv)\n",
    "\n",
    "# Input data files are available in the read-only \"../input/\" directory\n",
    "# For example, running this (by clicking run or pressing Shift+Enter) will list all files under the input directory\n",
    "\n",
    "import os\n",
    "for dirname, _, filenames in os.walk('/kaggle/input'):\n",
    "    for filename in filenames:\n",
    "        print(os.path.join(dirname, filename))\n",
    "\n",
    "# You can write up to 20GB to the current directory (/kaggle/working/) that gets preserved as output when you create a version using \"Save & Run All\" \n",
    "# You can also write temporary files to /kaggle/temp/, but they won't be saved outside of the current session"
   ]
  },
  {
   "cell_type": "code",
   "execution_count": 6,
   "metadata": {},
   "outputs": [
    {
     "name": "stdout",
     "output_type": "stream",
     "text": [
      "['eye-state (1).ipynb', 'test_data']\n"
     ]
    }
   ],
   "source": [
    "import os\n",
    "print(os.listdir())"
   ]
  },
  {
   "cell_type": "code",
   "execution_count": 7,
   "metadata": {
    "execution": {
     "iopub.execute_input": "2025-02-03T18:07:09.867694Z",
     "iopub.status.busy": "2025-02-03T18:07:09.867237Z",
     "iopub.status.idle": "2025-02-03T18:07:09.924862Z",
     "shell.execute_reply": "2025-02-03T18:07:09.923456Z",
     "shell.execute_reply.started": "2025-02-03T18:07:09.867658Z"
    },
    "trusted": true
   },
   "outputs": [
    {
     "name": "stdout",
     "output_type": "stream",
     "text": [
      "test\n"
     ]
    }
   ],
   "source": [
    "print(\"test\")\n",
    "data = pd.read_csv('test_data/EEG_Eye_State_Classification.csv')"
   ]
  },
  {
   "cell_type": "code",
   "execution_count": 8,
   "metadata": {
    "collapsed": true,
    "execution": {
     "iopub.execute_input": "2025-02-03T17:53:18.893202Z",
     "iopub.status.busy": "2025-02-03T17:53:18.892001Z",
     "iopub.status.idle": "2025-02-03T17:53:18.914895Z",
     "shell.execute_reply": "2025-02-03T17:53:18.913450Z",
     "shell.execute_reply.started": "2025-02-03T17:53:18.893150Z"
    },
    "jupyter": {
     "outputs_hidden": true
    },
    "trusted": true
   },
   "outputs": [
    {
     "data": {
      "text/html": [
       "<div>\n",
       "<style scoped>\n",
       "    .dataframe tbody tr th:only-of-type {\n",
       "        vertical-align: middle;\n",
       "    }\n",
       "\n",
       "    .dataframe tbody tr th {\n",
       "        vertical-align: top;\n",
       "    }\n",
       "\n",
       "    .dataframe thead th {\n",
       "        text-align: right;\n",
       "    }\n",
       "</style>\n",
       "<table border=\"1\" class=\"dataframe\">\n",
       "  <thead>\n",
       "    <tr style=\"text-align: right;\">\n",
       "      <th></th>\n",
       "      <th>AF3</th>\n",
       "      <th>F7</th>\n",
       "      <th>F3</th>\n",
       "      <th>FC5</th>\n",
       "      <th>T7</th>\n",
       "      <th>P7</th>\n",
       "      <th>O1</th>\n",
       "      <th>O2</th>\n",
       "      <th>P8</th>\n",
       "      <th>T8</th>\n",
       "      <th>FC6</th>\n",
       "      <th>F4</th>\n",
       "      <th>F8</th>\n",
       "      <th>AF4</th>\n",
       "      <th>eyeDetection</th>\n",
       "    </tr>\n",
       "  </thead>\n",
       "  <tbody>\n",
       "    <tr>\n",
       "      <th>0</th>\n",
       "      <td>4329.23</td>\n",
       "      <td>4009.23</td>\n",
       "      <td>4289.23</td>\n",
       "      <td>4148.21</td>\n",
       "      <td>4350.26</td>\n",
       "      <td>4586.15</td>\n",
       "      <td>4096.92</td>\n",
       "      <td>4641.03</td>\n",
       "      <td>4222.05</td>\n",
       "      <td>4238.46</td>\n",
       "      <td>4211.28</td>\n",
       "      <td>4280.51</td>\n",
       "      <td>4635.90</td>\n",
       "      <td>4393.85</td>\n",
       "      <td>0</td>\n",
       "    </tr>\n",
       "    <tr>\n",
       "      <th>1</th>\n",
       "      <td>4324.62</td>\n",
       "      <td>4004.62</td>\n",
       "      <td>4293.85</td>\n",
       "      <td>4148.72</td>\n",
       "      <td>4342.05</td>\n",
       "      <td>4586.67</td>\n",
       "      <td>4097.44</td>\n",
       "      <td>4638.97</td>\n",
       "      <td>4210.77</td>\n",
       "      <td>4226.67</td>\n",
       "      <td>4207.69</td>\n",
       "      <td>4279.49</td>\n",
       "      <td>4632.82</td>\n",
       "      <td>4384.10</td>\n",
       "      <td>0</td>\n",
       "    </tr>\n",
       "    <tr>\n",
       "      <th>2</th>\n",
       "      <td>4327.69</td>\n",
       "      <td>4006.67</td>\n",
       "      <td>4295.38</td>\n",
       "      <td>4156.41</td>\n",
       "      <td>4336.92</td>\n",
       "      <td>4583.59</td>\n",
       "      <td>4096.92</td>\n",
       "      <td>4630.26</td>\n",
       "      <td>4207.69</td>\n",
       "      <td>4222.05</td>\n",
       "      <td>4206.67</td>\n",
       "      <td>4282.05</td>\n",
       "      <td>4628.72</td>\n",
       "      <td>4389.23</td>\n",
       "      <td>0</td>\n",
       "    </tr>\n",
       "    <tr>\n",
       "      <th>3</th>\n",
       "      <td>4328.72</td>\n",
       "      <td>4011.79</td>\n",
       "      <td>4296.41</td>\n",
       "      <td>4155.90</td>\n",
       "      <td>4343.59</td>\n",
       "      <td>4582.56</td>\n",
       "      <td>4097.44</td>\n",
       "      <td>4630.77</td>\n",
       "      <td>4217.44</td>\n",
       "      <td>4235.38</td>\n",
       "      <td>4210.77</td>\n",
       "      <td>4287.69</td>\n",
       "      <td>4632.31</td>\n",
       "      <td>4396.41</td>\n",
       "      <td>0</td>\n",
       "    </tr>\n",
       "    <tr>\n",
       "      <th>4</th>\n",
       "      <td>4326.15</td>\n",
       "      <td>4011.79</td>\n",
       "      <td>4292.31</td>\n",
       "      <td>4151.28</td>\n",
       "      <td>4347.69</td>\n",
       "      <td>4586.67</td>\n",
       "      <td>4095.90</td>\n",
       "      <td>4627.69</td>\n",
       "      <td>4210.77</td>\n",
       "      <td>4244.10</td>\n",
       "      <td>4212.82</td>\n",
       "      <td>4288.21</td>\n",
       "      <td>4632.82</td>\n",
       "      <td>4398.46</td>\n",
       "      <td>0</td>\n",
       "    </tr>\n",
       "  </tbody>\n",
       "</table>\n",
       "</div>"
      ],
      "text/plain": [
       "       AF3       F7       F3      FC5       T7       P7       O1       O2  \\\n",
       "0  4329.23  4009.23  4289.23  4148.21  4350.26  4586.15  4096.92  4641.03   \n",
       "1  4324.62  4004.62  4293.85  4148.72  4342.05  4586.67  4097.44  4638.97   \n",
       "2  4327.69  4006.67  4295.38  4156.41  4336.92  4583.59  4096.92  4630.26   \n",
       "3  4328.72  4011.79  4296.41  4155.90  4343.59  4582.56  4097.44  4630.77   \n",
       "4  4326.15  4011.79  4292.31  4151.28  4347.69  4586.67  4095.90  4627.69   \n",
       "\n",
       "        P8       T8      FC6       F4       F8      AF4  eyeDetection  \n",
       "0  4222.05  4238.46  4211.28  4280.51  4635.90  4393.85             0  \n",
       "1  4210.77  4226.67  4207.69  4279.49  4632.82  4384.10             0  \n",
       "2  4207.69  4222.05  4206.67  4282.05  4628.72  4389.23             0  \n",
       "3  4217.44  4235.38  4210.77  4287.69  4632.31  4396.41             0  \n",
       "4  4210.77  4244.10  4212.82  4288.21  4632.82  4398.46             0  "
      ]
     },
     "execution_count": 8,
     "metadata": {},
     "output_type": "execute_result"
    }
   ],
   "source": [
    "data.head()"
   ]
  },
  {
   "cell_type": "code",
   "execution_count": 260,
   "metadata": {
    "execution": {
     "iopub.execute_input": "2025-02-03T17:53:21.140583Z",
     "iopub.status.busy": "2025-02-03T17:53:21.140127Z",
     "iopub.status.idle": "2025-02-03T17:53:21.148436Z",
     "shell.execute_reply": "2025-02-03T17:53:21.147185Z",
     "shell.execute_reply.started": "2025-02-03T17:53:21.140548Z"
    },
    "trusted": true
   },
   "outputs": [
    {
     "data": {
      "text/plain": [
       "pandas.core.frame.DataFrame"
      ]
     },
     "execution_count": 260,
     "metadata": {},
     "output_type": "execute_result"
    }
   ],
   "source": [
    "type(data)"
   ]
  },
  {
   "cell_type": "code",
   "execution_count": 261,
   "metadata": {},
   "outputs": [
    {
     "data": {
      "text/html": [
       "<div>\n",
       "<style scoped>\n",
       "    .dataframe tbody tr th:only-of-type {\n",
       "        vertical-align: middle;\n",
       "    }\n",
       "\n",
       "    .dataframe tbody tr th {\n",
       "        vertical-align: top;\n",
       "    }\n",
       "\n",
       "    .dataframe thead th {\n",
       "        text-align: right;\n",
       "    }\n",
       "</style>\n",
       "<table border=\"1\" class=\"dataframe\">\n",
       "  <thead>\n",
       "    <tr style=\"text-align: right;\">\n",
       "      <th></th>\n",
       "      <th>AF3</th>\n",
       "      <th>F7</th>\n",
       "      <th>F3</th>\n",
       "      <th>FC5</th>\n",
       "      <th>T7</th>\n",
       "      <th>P7</th>\n",
       "      <th>O1</th>\n",
       "      <th>O2</th>\n",
       "      <th>P8</th>\n",
       "      <th>T8</th>\n",
       "      <th>FC6</th>\n",
       "      <th>F4</th>\n",
       "      <th>F8</th>\n",
       "      <th>AF4</th>\n",
       "      <th>eyeDetection</th>\n",
       "    </tr>\n",
       "  </thead>\n",
       "  <tbody>\n",
       "    <tr>\n",
       "      <th>count</th>\n",
       "      <td>14980.000000</td>\n",
       "      <td>14980.000000</td>\n",
       "      <td>14980.000000</td>\n",
       "      <td>14980.000000</td>\n",
       "      <td>14980.000000</td>\n",
       "      <td>14980.000000</td>\n",
       "      <td>14980.000000</td>\n",
       "      <td>14980.000000</td>\n",
       "      <td>14980.000000</td>\n",
       "      <td>14980.000000</td>\n",
       "      <td>14980.000000</td>\n",
       "      <td>14980.000000</td>\n",
       "      <td>14980.000000</td>\n",
       "      <td>14980.000000</td>\n",
       "      <td>14980.000000</td>\n",
       "    </tr>\n",
       "    <tr>\n",
       "      <th>mean</th>\n",
       "      <td>4321.917777</td>\n",
       "      <td>4009.767694</td>\n",
       "      <td>4264.022433</td>\n",
       "      <td>4164.946326</td>\n",
       "      <td>4341.741075</td>\n",
       "      <td>4644.022379</td>\n",
       "      <td>4110.400160</td>\n",
       "      <td>4616.056904</td>\n",
       "      <td>4218.826610</td>\n",
       "      <td>4231.316200</td>\n",
       "      <td>4202.456900</td>\n",
       "      <td>4279.232774</td>\n",
       "      <td>4615.205336</td>\n",
       "      <td>4416.435832</td>\n",
       "      <td>0.448798</td>\n",
       "    </tr>\n",
       "    <tr>\n",
       "      <th>std</th>\n",
       "      <td>2492.072174</td>\n",
       "      <td>45.941672</td>\n",
       "      <td>44.428052</td>\n",
       "      <td>5216.404632</td>\n",
       "      <td>34.738821</td>\n",
       "      <td>2924.789537</td>\n",
       "      <td>4600.926543</td>\n",
       "      <td>29.292603</td>\n",
       "      <td>2136.408523</td>\n",
       "      <td>38.050903</td>\n",
       "      <td>37.785981</td>\n",
       "      <td>41.544312</td>\n",
       "      <td>1208.369958</td>\n",
       "      <td>5891.285043</td>\n",
       "      <td>0.497388</td>\n",
       "    </tr>\n",
       "    <tr>\n",
       "      <th>min</th>\n",
       "      <td>1030.770000</td>\n",
       "      <td>2830.770000</td>\n",
       "      <td>1040.000000</td>\n",
       "      <td>2453.330000</td>\n",
       "      <td>2089.740000</td>\n",
       "      <td>2768.210000</td>\n",
       "      <td>2086.150000</td>\n",
       "      <td>4567.180000</td>\n",
       "      <td>1357.950000</td>\n",
       "      <td>1816.410000</td>\n",
       "      <td>3273.330000</td>\n",
       "      <td>2257.950000</td>\n",
       "      <td>86.666700</td>\n",
       "      <td>1366.150000</td>\n",
       "      <td>0.000000</td>\n",
       "    </tr>\n",
       "    <tr>\n",
       "      <th>25%</th>\n",
       "      <td>4280.510000</td>\n",
       "      <td>3990.770000</td>\n",
       "      <td>4250.260000</td>\n",
       "      <td>4108.210000</td>\n",
       "      <td>4331.790000</td>\n",
       "      <td>4611.790000</td>\n",
       "      <td>4057.950000</td>\n",
       "      <td>4604.620000</td>\n",
       "      <td>4190.770000</td>\n",
       "      <td>4220.510000</td>\n",
       "      <td>4190.260000</td>\n",
       "      <td>4267.690000</td>\n",
       "      <td>4590.770000</td>\n",
       "      <td>4342.050000</td>\n",
       "      <td>0.000000</td>\n",
       "    </tr>\n",
       "    <tr>\n",
       "      <th>50%</th>\n",
       "      <td>4294.360000</td>\n",
       "      <td>4005.640000</td>\n",
       "      <td>4262.560000</td>\n",
       "      <td>4120.510000</td>\n",
       "      <td>4338.970000</td>\n",
       "      <td>4617.950000</td>\n",
       "      <td>4070.260000</td>\n",
       "      <td>4613.330000</td>\n",
       "      <td>4199.490000</td>\n",
       "      <td>4229.230000</td>\n",
       "      <td>4200.510000</td>\n",
       "      <td>4276.920000</td>\n",
       "      <td>4603.080000</td>\n",
       "      <td>4354.870000</td>\n",
       "      <td>0.000000</td>\n",
       "    </tr>\n",
       "    <tr>\n",
       "      <th>75%</th>\n",
       "      <td>4311.790000</td>\n",
       "      <td>4023.080000</td>\n",
       "      <td>4270.770000</td>\n",
       "      <td>4132.310000</td>\n",
       "      <td>4347.180000</td>\n",
       "      <td>4626.670000</td>\n",
       "      <td>4083.590000</td>\n",
       "      <td>4624.100000</td>\n",
       "      <td>4209.230000</td>\n",
       "      <td>4239.490000</td>\n",
       "      <td>4211.280000</td>\n",
       "      <td>4287.180000</td>\n",
       "      <td>4617.440000</td>\n",
       "      <td>4372.820000</td>\n",
       "      <td>1.000000</td>\n",
       "    </tr>\n",
       "    <tr>\n",
       "      <th>max</th>\n",
       "      <td>309231.000000</td>\n",
       "      <td>7804.620000</td>\n",
       "      <td>6880.510000</td>\n",
       "      <td>642564.000000</td>\n",
       "      <td>6474.360000</td>\n",
       "      <td>362564.000000</td>\n",
       "      <td>567179.000000</td>\n",
       "      <td>7264.100000</td>\n",
       "      <td>265641.000000</td>\n",
       "      <td>6674.360000</td>\n",
       "      <td>6823.080000</td>\n",
       "      <td>7002.560000</td>\n",
       "      <td>152308.000000</td>\n",
       "      <td>715897.000000</td>\n",
       "      <td>1.000000</td>\n",
       "    </tr>\n",
       "  </tbody>\n",
       "</table>\n",
       "</div>"
      ],
      "text/plain": [
       "                 AF3            F7            F3            FC5            T7  \\\n",
       "count   14980.000000  14980.000000  14980.000000   14980.000000  14980.000000   \n",
       "mean     4321.917777   4009.767694   4264.022433    4164.946326   4341.741075   \n",
       "std      2492.072174     45.941672     44.428052    5216.404632     34.738821   \n",
       "min      1030.770000   2830.770000   1040.000000    2453.330000   2089.740000   \n",
       "25%      4280.510000   3990.770000   4250.260000    4108.210000   4331.790000   \n",
       "50%      4294.360000   4005.640000   4262.560000    4120.510000   4338.970000   \n",
       "75%      4311.790000   4023.080000   4270.770000    4132.310000   4347.180000   \n",
       "max    309231.000000   7804.620000   6880.510000  642564.000000   6474.360000   \n",
       "\n",
       "                  P7             O1            O2             P8  \\\n",
       "count   14980.000000   14980.000000  14980.000000   14980.000000   \n",
       "mean     4644.022379    4110.400160   4616.056904    4218.826610   \n",
       "std      2924.789537    4600.926543     29.292603    2136.408523   \n",
       "min      2768.210000    2086.150000   4567.180000    1357.950000   \n",
       "25%      4611.790000    4057.950000   4604.620000    4190.770000   \n",
       "50%      4617.950000    4070.260000   4613.330000    4199.490000   \n",
       "75%      4626.670000    4083.590000   4624.100000    4209.230000   \n",
       "max    362564.000000  567179.000000   7264.100000  265641.000000   \n",
       "\n",
       "                 T8           FC6            F4             F8            AF4  \\\n",
       "count  14980.000000  14980.000000  14980.000000   14980.000000   14980.000000   \n",
       "mean    4231.316200   4202.456900   4279.232774    4615.205336    4416.435832   \n",
       "std       38.050903     37.785981     41.544312    1208.369958    5891.285043   \n",
       "min     1816.410000   3273.330000   2257.950000      86.666700    1366.150000   \n",
       "25%     4220.510000   4190.260000   4267.690000    4590.770000    4342.050000   \n",
       "50%     4229.230000   4200.510000   4276.920000    4603.080000    4354.870000   \n",
       "75%     4239.490000   4211.280000   4287.180000    4617.440000    4372.820000   \n",
       "max     6674.360000   6823.080000   7002.560000  152308.000000  715897.000000   \n",
       "\n",
       "       eyeDetection  \n",
       "count  14980.000000  \n",
       "mean       0.448798  \n",
       "std        0.497388  \n",
       "min        0.000000  \n",
       "25%        0.000000  \n",
       "50%        0.000000  \n",
       "75%        1.000000  \n",
       "max        1.000000  "
      ]
     },
     "execution_count": 261,
     "metadata": {},
     "output_type": "execute_result"
    }
   ],
   "source": [
    "data.describe()"
   ]
  },
  {
   "cell_type": "code",
   "execution_count": 262,
   "metadata": {},
   "outputs": [
    {
     "name": "stdout",
     "output_type": "stream",
     "text": [
      "<class 'pandas.core.frame.DataFrame'>\n",
      "RangeIndex: 14980 entries, 0 to 14979\n",
      "Data columns (total 15 columns):\n",
      " #   Column        Non-Null Count  Dtype  \n",
      "---  ------        --------------  -----  \n",
      " 0   AF3           14980 non-null  float64\n",
      " 1   F7            14980 non-null  float64\n",
      " 2   F3            14980 non-null  float64\n",
      " 3   FC5           14980 non-null  float64\n",
      " 4   T7            14980 non-null  float64\n",
      " 5   P7            14980 non-null  float64\n",
      " 6   O1            14980 non-null  float64\n",
      " 7   O2            14980 non-null  float64\n",
      " 8   P8            14980 non-null  float64\n",
      " 9   T8            14980 non-null  float64\n",
      " 10  FC6           14980 non-null  float64\n",
      " 11  F4            14980 non-null  float64\n",
      " 12  F8            14980 non-null  float64\n",
      " 13  AF4           14980 non-null  float64\n",
      " 14  eyeDetection  14980 non-null  int64  \n",
      "dtypes: float64(14), int64(1)\n",
      "memory usage: 1.7 MB\n"
     ]
    }
   ],
   "source": [
    "data.info()"
   ]
  },
  {
   "cell_type": "code",
   "execution_count": 10,
   "metadata": {
    "execution": {
     "iopub.execute_input": "2025-02-03T18:07:13.092400Z",
     "iopub.status.busy": "2025-02-03T18:07:13.091071Z",
     "iopub.status.idle": "2025-02-03T18:07:13.099898Z",
     "shell.execute_reply": "2025-02-03T18:07:13.098566Z",
     "shell.execute_reply.started": "2025-02-03T18:07:13.092350Z"
    },
    "trusted": true
   },
   "outputs": [],
   "source": [
    "data = data.drop(columns =\n",
    "               [\"AF3\", \"T7\",\"P8\",\"T8\", \"P7\", \"O1\", \"O2\", \"AF4\", \"F3\", \"FC6\", \"F4\", \"FC5\"])"
   ]
  },
  {
   "cell_type": "code",
   "execution_count": 264,
   "metadata": {
    "execution": {
     "iopub.execute_input": "2025-02-03T18:07:15.997863Z",
     "iopub.status.busy": "2025-02-03T18:07:15.997462Z",
     "iopub.status.idle": "2025-02-03T18:07:16.014556Z",
     "shell.execute_reply": "2025-02-03T18:07:16.013347Z",
     "shell.execute_reply.started": "2025-02-03T18:07:15.997813Z"
    },
    "trusted": true
   },
   "outputs": [
    {
     "data": {
      "text/html": [
       "<div>\n",
       "<style scoped>\n",
       "    .dataframe tbody tr th:only-of-type {\n",
       "        vertical-align: middle;\n",
       "    }\n",
       "\n",
       "    .dataframe tbody tr th {\n",
       "        vertical-align: top;\n",
       "    }\n",
       "\n",
       "    .dataframe thead th {\n",
       "        text-align: right;\n",
       "    }\n",
       "</style>\n",
       "<table border=\"1\" class=\"dataframe\">\n",
       "  <thead>\n",
       "    <tr style=\"text-align: right;\">\n",
       "      <th></th>\n",
       "      <th>F7</th>\n",
       "      <th>F3</th>\n",
       "      <th>FC5</th>\n",
       "      <th>FC6</th>\n",
       "      <th>F4</th>\n",
       "      <th>F8</th>\n",
       "      <th>eyeDetection</th>\n",
       "    </tr>\n",
       "  </thead>\n",
       "  <tbody>\n",
       "    <tr>\n",
       "      <th>0</th>\n",
       "      <td>4009.23</td>\n",
       "      <td>4289.23</td>\n",
       "      <td>4148.21</td>\n",
       "      <td>4211.28</td>\n",
       "      <td>4280.51</td>\n",
       "      <td>4635.90</td>\n",
       "      <td>0</td>\n",
       "    </tr>\n",
       "    <tr>\n",
       "      <th>1</th>\n",
       "      <td>4004.62</td>\n",
       "      <td>4293.85</td>\n",
       "      <td>4148.72</td>\n",
       "      <td>4207.69</td>\n",
       "      <td>4279.49</td>\n",
       "      <td>4632.82</td>\n",
       "      <td>0</td>\n",
       "    </tr>\n",
       "    <tr>\n",
       "      <th>2</th>\n",
       "      <td>4006.67</td>\n",
       "      <td>4295.38</td>\n",
       "      <td>4156.41</td>\n",
       "      <td>4206.67</td>\n",
       "      <td>4282.05</td>\n",
       "      <td>4628.72</td>\n",
       "      <td>0</td>\n",
       "    </tr>\n",
       "    <tr>\n",
       "      <th>3</th>\n",
       "      <td>4011.79</td>\n",
       "      <td>4296.41</td>\n",
       "      <td>4155.90</td>\n",
       "      <td>4210.77</td>\n",
       "      <td>4287.69</td>\n",
       "      <td>4632.31</td>\n",
       "      <td>0</td>\n",
       "    </tr>\n",
       "    <tr>\n",
       "      <th>4</th>\n",
       "      <td>4011.79</td>\n",
       "      <td>4292.31</td>\n",
       "      <td>4151.28</td>\n",
       "      <td>4212.82</td>\n",
       "      <td>4288.21</td>\n",
       "      <td>4632.82</td>\n",
       "      <td>0</td>\n",
       "    </tr>\n",
       "  </tbody>\n",
       "</table>\n",
       "</div>"
      ],
      "text/plain": [
       "        F7       F3      FC5      FC6       F4       F8  eyeDetection\n",
       "0  4009.23  4289.23  4148.21  4211.28  4280.51  4635.90             0\n",
       "1  4004.62  4293.85  4148.72  4207.69  4279.49  4632.82             0\n",
       "2  4006.67  4295.38  4156.41  4206.67  4282.05  4628.72             0\n",
       "3  4011.79  4296.41  4155.90  4210.77  4287.69  4632.31             0\n",
       "4  4011.79  4292.31  4151.28  4212.82  4288.21  4632.82             0"
      ]
     },
     "execution_count": 264,
     "metadata": {},
     "output_type": "execute_result"
    }
   ],
   "source": [
    "data.head()"
   ]
  },
  {
   "cell_type": "code",
   "execution_count": 9,
   "metadata": {
    "execution": {
     "iopub.execute_input": "2025-02-03T18:10:05.220541Z",
     "iopub.status.busy": "2025-02-03T18:10:05.220111Z",
     "iopub.status.idle": "2025-02-03T18:10:05.228452Z",
     "shell.execute_reply": "2025-02-03T18:10:05.227147Z",
     "shell.execute_reply.started": "2025-02-03T18:10:05.220511Z"
    },
    "trusted": true
   },
   "outputs": [],
   "source": [
    "import numpy as np\n",
    "import pandas as pd\n",
    "\n",
    "def remove_outliers_zscore_df(df, threshold=3):\n",
    "    cleaned_df = df.copy()\n",
    "    \n",
    "    for column in cleaned_df.select_dtypes(include=[np.number]).columns:  # Process only numeric columns\n",
    "        mean = cleaned_df[column].mean()\n",
    "        std = cleaned_df[column].std()\n",
    "        \n",
    "        z_scores = (cleaned_df[column] - mean) / std\n",
    "        outliers = np.abs(z_scores) > 3\n",
    "        \n",
    "        median_value = cleaned_df[column].median()\n",
    "        cleaned_df.loc[outliers, column] = median_value  # Replace outliers with median\n",
    "        \n",
    "    return cleaned_df"
   ]
  },
  {
   "cell_type": "code",
   "execution_count": 266,
   "metadata": {
    "execution": {
     "iopub.execute_input": "2025-02-03T18:09:56.846382Z",
     "iopub.status.busy": "2025-02-03T18:09:56.845931Z",
     "iopub.status.idle": "2025-02-03T18:09:56.855688Z",
     "shell.execute_reply": "2025-02-03T18:09:56.854207Z",
     "shell.execute_reply.started": "2025-02-03T18:09:56.846347Z"
    },
    "trusted": true
   },
   "outputs": [
    {
     "data": {
      "text/plain": [
       "(14980, 7)"
      ]
     },
     "execution_count": 266,
     "metadata": {},
     "output_type": "execute_result"
    }
   ],
   "source": [
    "data_numpy = np.array(data)\n",
    "data.shape"
   ]
  },
  {
   "cell_type": "code",
   "execution_count": 37,
   "metadata": {
    "execution": {
     "iopub.execute_input": "2025-02-03T18:10:07.648201Z",
     "iopub.status.busy": "2025-02-03T18:10:07.646966Z",
     "iopub.status.idle": "2025-02-03T18:10:08.690360Z",
     "shell.execute_reply": "2025-02-03T18:10:08.688812Z",
     "shell.execute_reply.started": "2025-02-03T18:10:07.648163Z"
    },
    "trusted": true
   },
   "outputs": [
    {
     "name": "stderr",
     "output_type": "stream",
     "text": [
      "No handles with labels found to put in legend.\n"
     ]
    },
    {
     "name": "stdout",
     "output_type": "stream",
     "text": [
      "Index(['F7', 'F8', 'eyeDetection'], dtype='object')\n"
     ]
    },
    {
     "data": {
      "image/png": "[encoded data removed]",
      "text/plain": [
       "<Figure size 864x720 with 3 Axes>"
      ]
     },
     "metadata": {
      "needs_background": "light"
     },
     "output_type": "display_data"
    }
   ],
   "source": [
    "import matplotlib.pyplot as plt\n",
    "\n",
    "# Generate synthetic EEG-like data\n",
    "np.random.seed(42)\n",
    "n_channels = 3\n",
    "\n",
    "\n",
    "# Plotting\n",
    "fig, axes = plt.subplots(n_channels, 1, figsize=(12, 10), sharex=True)\n",
    "cleaned_data = remove_outliers_zscore_df(data, 3)\n",
    "cleaned_data = cleaned_data.loc[12680: 13100]\n",
    "for i, vals in enumerate(cleaned_data[\"F8\"]):\n",
    "    if vals < 4000:\n",
    "        cleaned_data.loc[i, \"F8\"] = np.mean(cleaned_data[\"F8\"])    \n",
    "print(data.columns)\n",
    "for i, col in enumerate(data.columns):\n",
    "    \n",
    "    \n",
    "    axes[i].plot([i/125 for i in range(len(cleaned_data[col]))], cleaned_data[col], color='black')\n",
    "    axes[i].set_ylabel(f'Ch {col}')\n",
    "    axes[i].legend(loc='upper right') if i == 0 else None\n",
    "\n",
    "axes[-1].set_xlabel('Time (s)')\n",
    "#plt.xticks(np.arange(0, len(cleaned_data)/125, 1))  # From 0 to 10 in 0.2 increments\n",
    "\n",
    "plt.suptitle('Simulated EEG Data with Blink Artifacts', fontsize=16)\n",
    "plt.tight_layout(rect=[0, 0, 1, 0.96])\n",
    "plt.show()\n"
   ]
  },
  {
   "cell_type": "code",
   "execution_count": 13,
   "metadata": {},
   "outputs": [],
   "source": [
    "def moving_average_derivative(signal, window_size=5):\n",
    "    \"\"\"\n",
    "    Compute the smoothed derivative using a moving window.\n",
    "    The derivative at each point is computed as the difference between the averages\n",
    "    of two adjacent windows.\n",
    "    \"\"\"\n",
    "    smoothed_derivative = np.zeros_like(signal)\n",
    "    \n",
    "    for i in range(window_size, len(signal) - window_size):\n",
    "        # Average of the previous window\n",
    "        prev_avg = np.mean(signal[i - window_size:i])\n",
    "        \n",
    "        # Average of the next window\n",
    "        next_avg = np.mean(signal[i:i + window_size])\n",
    "        \n",
    "        # Derivative as the difference between these averages\n",
    "        smoothed_derivative[i] = (next_avg - prev_avg) / window_size\n",
    "        \n",
    "    return smoothed_derivative"
   ]
  },
  {
   "cell_type": "code",
   "execution_count": 14,
   "metadata": {},
   "outputs": [],
   "source": [
    "import scipy.signal as signal\n",
    "\n",
    "def detect_blinks_with_smooth_derivative(eeg_signal, sampling_rate, k=1.5, window_size=10):\n",
    "    # 1. Preprocessing: Apply a low-pass filter to remove high-frequency noise\n",
    "    nyquist_freq = 0.5 * sampling_rate\n",
    "    cutoff_freq = 5.0  # Blinks are low-frequency events (below ~5 Hz)\n",
    "    normal_cutoff = cutoff_freq / nyquist_freq\n",
    "    b, a = signal.butter(2, normal_cutoff, btype='low', analog=False)\n",
    "    filtered_signal = signal.filtfilt(b, a, eeg_signal)\n",
    "    \n",
    "    # 2. Detect Positive Peaks (start of blink)\n",
    "    mean_signal = np.mean(filtered_signal)\n",
    "    std_dev_signal = np.std(filtered_signal)\n",
    "    pos_thresh = mean_signal + k * std_dev_signal\n",
    "    \n",
    "    pos_peaks, _ = signal.find_peaks(filtered_signal, height=pos_thresh)\n",
    "    \n",
    "    # 3. Compute the smoothed derivative\n",
    "    smoothed_derivative = moving_average_derivative(filtered_signal, window_size=window_size)\n",
    "    \n",
    "    # 4. Determine threshold for blink end based on derivative's standard deviation\n",
    "    derivative_std = np.std(smoothed_derivative)\n",
    "    derivative_thresh = derivative_std * 0.5  # Blink ends when derivative is below this\n",
    "    \n",
    "    # 5. Detect Blink Periods\n",
    "    blink_periods = []\n",
    "    \n",
    "    for peak in pos_peaks:\n",
    "        blink_end = peak\n",
    "        for i in range(peak + 1, len(smoothed_derivative)):\n",
    "            # If the smoothed derivative drops below threshold, mark as blink end\n",
    "            if abs(smoothed_derivative[i]) < derivative_thresh:\n",
    "                blink_end = i\n",
    "                break\n",
    "        \n",
    "        blink_periods.append((peak, blink_end))\n",
    "\n",
    "    return blink_periods, filtered_signal, pos_peaks, smoothed_derivative, derivative_thresh"
   ]
  },
  {
   "cell_type": "code",
   "execution_count": 15,
   "metadata": {},
   "outputs": [],
   "source": [
    "def detect_blinks_with_sustained_derivative(eeg_signal, sampling_rate, k, window_size, sustain_duration):\n",
    "    # 1. Preprocessing: Low-pass filter to remove high-frequency noise\n",
    "    nyquist_freq = 0.5 * sampling_rate\n",
    "    cutoff_freq = 5.0  # Blinks are low-frequency events\n",
    "    normal_cutoff = cutoff_freq / nyquist_freq\n",
    "    b, a = signal.butter(2, normal_cutoff, btype='low', analog=False)\n",
    "    filtered_signal = signal.filtfilt(b, a, eeg_signal)\n",
    "    \n",
    "    # 2. Detect Positive Peaks (start of blink)\n",
    "    mean_signal = np.mean(filtered_signal)\n",
    "    std_dev_signal = np.std(filtered_signal)\n",
    "    pos_thresh = mean_signal + k * std_dev_signal\n",
    "    pos_peaks, _ = signal.find_peaks(filtered_signal, height=pos_thresh)\n",
    "    \n",
    "    # 3. Compute the smoothed derivative\n",
    "    smoothed_derivative = moving_average_derivative(filtered_signal, window_size=window_size)\n",
    "    \n",
    "    # 4. Derivative bounds for blink end detection\n",
    "    derivative_std = np.std(smoothed_derivative)\n",
    "    lower_bound = -0.5 * derivative_std\n",
    "    upper_bound = 0.5 * derivative_std\n",
    "    \n",
    "    # Convert sustain_duration from seconds to samples\n",
    "    sustain_samples = int(sustain_duration * sampling_rate)\n",
    "    \n",
    "    # 5. Detect Blink Periods\n",
    "    blink_periods = []\n",
    "    \n",
    "    for peak in pos_peaks:\n",
    "        blink_end = peak\n",
    "        for i in range(peak + 1, len(smoothed_derivative) - sustain_samples):\n",
    "            # Check if derivative remains within bounds for the sustain window\n",
    "            window = smoothed_derivative[i:i + sustain_samples]\n",
    "            if np.all((window > lower_bound) & (window < upper_bound)):\n",
    "                blink_end = i + sustain_samples\n",
    "                break\n",
    "        \n",
    "        blink_periods.append((peak, blink_end))\n",
    "\n",
    "    return blink_periods, filtered_signal, pos_peaks, smoothed_derivative, lower_bound, upper_bound"
   ]
  },
  {
   "cell_type": "code",
   "execution_count": 16,
   "metadata": {},
   "outputs": [],
   "source": [
    "\n",
    "import numpy as np\n",
    "import scipy.signal as signal\n",
    "import matplotlib.pyplot as plt\n",
    "\n",
    "def detect_blinks_statistical(eeg_signal, sampling_rate, k=1.5):\n",
    "    \n",
    "    # 1. Preprocessing: Apply a low-pass filter to remove high-frequency noise\n",
    "    nyquist_freq = 0.5 * sampling_rate\n",
    "    cutoff_freq = 5.0  # Blinks are low-frequency events (below ~5 Hz)\n",
    "    normal_cutoff = cutoff_freq / nyquist_freq\n",
    "    b, a = signal.butter(2, normal_cutoff, btype='low', analog=False)\n",
    "    filtered_signal = signal.filtfilt(b, a, eeg_signal)\n",
    "    \n",
    "    # 2. Compute mean and standard deviation\n",
    "    mean_signal = np.mean(filtered_signal)\n",
    "    std_dev_signal = np.std(filtered_signal)\n",
    "    \n",
    "    # 3. Dynamic thresholds based on standard deviation\n",
    "    pos_thresh = mean_signal + k * std_dev_signal  # Positive peak threshold\n",
    "    neg_thresh = mean_signal - k * std_dev_signal  # Negative peak threshold\n",
    "    \n",
    "    # 4. Detect positive peaks (start of blink)\n",
    "    pos_peaks, _ = signal.find_peaks(filtered_signal, height=pos_thresh)\n",
    "    \n",
    "    # 5. Detect negative peaks (end of blink)\n",
    "    neg_peaks, _ = signal.find_peaks(-filtered_signal, height=-neg_thresh)\n",
    "\n",
    "    # 6. Pair positive and negative peaks to classify blink periods\n",
    "    blink_periods = []\n",
    "    neg_idx = 0  # Index to track the negative peaks\n",
    "    \n",
    "    for pos_peak in pos_peaks:\n",
    "        # Find the first negative peak that occurs after the positive peak\n",
    "        while neg_idx < len(neg_peaks) and neg_peaks[neg_idx] < pos_peak:\n",
    "            neg_idx += 1\n",
    "        \n",
    "        if neg_idx < len(neg_peaks):\n",
    "            neg_peak = neg_peaks[neg_idx]\n",
    "            blink_periods.append((pos_peak, neg_peak))  # Store the blink period\n",
    "            neg_idx += 1  # Move to the next negative peak\n",
    "\n",
    "    return blink_periods, filtered_signal, pos_peaks, neg_peaks, pos_thresh, neg_thresh"
   ]
  },
  {
   "cell_type": "code",
   "execution_count": 17,
   "metadata": {},
   "outputs": [],
   "source": [
    "def moving_average(signal, window_size=5):\n",
    "    \"\"\"Smooth the signal using a simple moving average.\"\"\"\n",
    "    return np.convolve(signal, np.ones(window_size)/window_size, mode='same')"
   ]
  },
  {
   "cell_type": "code",
   "execution_count": 18,
   "metadata": {},
   "outputs": [],
   "source": [
    "def ave_signals(cleaned_data, cols):\n",
    "    ave_col = np.zeros(len(cleaned_data))\n",
    "    for i in range(len(cleaned_data)):\n",
    "        for col in cols:\n",
    "            ave_col[i] += cleaned_data.loc[i, col]\n",
    "    ave_col = ave_col / len(cols)\n",
    "    cleaned_data[\"averaged_signal\"] = ave_col\n",
    "    return cleaned_data"
   ]
  },
  {
   "cell_type": "code",
   "execution_count": 274,
   "metadata": {},
   "outputs": [],
   "source": [
    "#cleaned_data = ave_signals(cleaned_data, [\"FC6\", \"F8\", \"F4\"])\n",
    "#cleaned_data[\"F8\"] = moving_average(cleaned_data[\"F8\"], 10)"
   ]
  },
  {
   "cell_type": "code",
   "execution_count": 275,
   "metadata": {},
   "outputs": [],
   "source": [
    "#plt.plot(cleaned_data[\"F8\"])\n",
    "#plt.show"
   ]
  },
  {
   "cell_type": "code",
   "execution_count": 19,
   "metadata": {},
   "outputs": [],
   "source": [
    "blink_periods, filtered_signal, pos_peaks, neg_peaks, pos_thresh, neg_thresh = detect_blinks_statistical(cleaned_data[\"F8\"], 128, 1.4)"
   ]
  },
  {
   "cell_type": "code",
   "execution_count": 38,
   "metadata": {},
   "outputs": [],
   "source": [
    "blink_periods, filtered_signal, pos_peaks, smoothed_derivative, lower_bound, upper_bound = detect_blinks_with_sustained_derivative(eeg_signal =cleaned_data[\"F8\"], sampling_rate=125, k=1.5, window_size=5, sustain_duration=0.1)\n"
   ]
  },
  {
   "cell_type": "code",
   "execution_count": 278,
   "metadata": {},
   "outputs": [],
   "source": [
    "#plt.plot(smoothed_derivative)\n",
    "#plt.show"
   ]
  },
  {
   "cell_type": "code",
   "execution_count": 39,
   "metadata": {},
   "outputs": [
    {
     "data": {
      "text/plain": [
       "[(33, 81), (282, 326)]"
      ]
     },
     "execution_count": 39,
     "metadata": {},
     "output_type": "execute_result"
    }
   ],
   "source": [
    "blink_periods"
   ]
  },
  {
   "cell_type": "code",
   "execution_count": 40,
   "metadata": {},
   "outputs": [],
   "source": [
    "val_mat = np.zeros(len(cleaned_data))\n",
    "for period in blink_periods:\n",
    "    val_mat[period[0]: period[1]] = 1\n",
    "    \n"
   ]
  },
  {
   "cell_type": "code",
   "execution_count": 41,
   "metadata": {},
   "outputs": [
    {
     "name": "stdout",
     "output_type": "stream",
     "text": [
      "0.8551068883610451\n"
     ]
    }
   ],
   "source": [
    "correct = 0\n",
    "for val, act in zip(val_mat, np.array(cleaned_data[\"eyeDetection\"])):\n",
    "    if val == act:\n",
    "        correct += 1\n",
    "print(correct/len(val_mat))"
   ]
  },
  {
   "cell_type": "code",
   "execution_count": 42,
   "metadata": {},
   "outputs": [
    {
     "data": {
      "image/png": "[encoded data removed]",
      "text/plain": [
       "<Figure size 864x720 with 2 Axes>"
      ]
     },
     "metadata": {
      "needs_background": "light"
     },
     "output_type": "display_data"
    }
   ],
   "source": [
    "n_channels = 2\n",
    "\n",
    "\n",
    "# Plotting\n",
    "fig, axes = plt.subplots(n_channels, 1, figsize=(12, 10), sharex=True)\n",
    "    \n",
    "axes[0].plot([i/128 for i in range(len(val_mat))], cleaned_data[\"eyeDetection\"], color='black')\n",
    "axes[0].set_ylabel(f'actual')\n",
    "axes[0].legend(loc='upper right') if i == 0 else None\n",
    "\n",
    "axes[1].plot([i/128 for i in range(len(val_mat))], val_mat, color='black')\n",
    "axes[1].set_ylabel(f'predicted')\n",
    "axes[1].legend(loc='upper right') if i == 0 else None\n",
    "\n",
    "axes[-1].set_xlabel('Time (s)')\n",
    "plt.suptitle('Simulated EEG Data with Blink Artifacts', fontsize=16)\n",
    "plt.tight_layout(rect=[0, 0, 1, 0.96])\n",
    "plt.show()"
   ]
  }
 ],
 "metadata": {
  "kaggle": {
   "accelerator": "none",
   "dataSources": [
    {
     "datasetId": 2298091,
     "sourceId": 3865529,
     "sourceType": "datasetVersion"
    }
   ],
   "dockerImageVersionId": 30615,
   "isGpuEnabled": false,
   "isInternetEnabled": false,
   "language": "python",
   "sourceType": "notebook"
  },
  "kernelspec": {
   "display_name": "base",
   "language": "python",
   "name": "python3"
  },
  "language_info": {
   "codemirror_mode": {
    "name": "ipython",
    "version": 3
   },
   "file_extension": ".py",
   "mimetype": "text/x-python",
   "name": "python",
   "nbconvert_exporter": "python",
   "pygments_lexer": "ipython3",
   "version": "3.9.7"
  }
 },
 "nbformat": 4,
 "nbformat_minor": 4
}
